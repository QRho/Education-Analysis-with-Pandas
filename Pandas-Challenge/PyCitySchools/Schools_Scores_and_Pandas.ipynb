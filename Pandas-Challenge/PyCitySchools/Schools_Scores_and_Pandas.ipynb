{
 "cells": [
  {
   "cell_type": "code",
   "execution_count": null,
   "metadata": {},
   "outputs": [],
   "source": [
    "### Note\n",
    "* First I read in the data from both the sources. "
   ]
  },
  {
   "cell_type": "code",
   "execution_count": null,
   "metadata": {},
   "outputs": [],
   "source": [
    "# Dependencies and Setup\n",
    "import pandas as pd\n",
    "\n",
    "# File to Load (Remember to Change These)\n",
    "school_data_to_load = \"Resources/schools_complete.csv\"\n",
    "student_data_to_load = \"Resources/students_complete.csv\"\n",
    "\n",
    "# Read School and Student Data File and store into Pandas Data Frames\n",
    "school_data = pd.read_csv(school_data_to_load)\n",
    "student_data = pd.read_csv(student_data_to_load)\n",
    "\n",
    "\n",
    "# Combine the data into a single dataset\n",
    "school_data_complete = pd.merge(student_data, school_data, how=\"left\", on=[\"school_name\", \"school_name\"])\n",
    "                      "
   ]
  },
  {
   "cell_type": "code",
   "execution_count": null,
   "metadata": {},
   "outputs": [],
   "source": [
    "\n"
   ]
  },
  {
   "cell_type": "markdown",
   "metadata": {},
   "source": [
    "## District Summary\n",
    "\n",
    "* Calculated the total number of schools\n",
    "\n",
    "* Calculated the total number of students\n",
    "\n",
    "* Calculated the total budget\n",
    "\n",
    "* Calculated the average math score \n",
    "\n",
    "* Calculated the average reading score\n",
    "\n",
    "* Calculated the overall passing rate (overall average score), i.e. (avg. math score + avg. reading score)/2\n",
    "\n",
    "* Calculated the percentage of students with a passing math score (70 or greater)\n",
    "\n",
    "* Calculated the percentage of students with a passing reading score (70 or greater)\n",
    "\n",
    "* Created a dataframe to hold results"
   ]
  },
  {
   "cell_type": "code",
   "execution_count": null,
   "metadata": {},
   "outputs": [],
   "source": [
    "\n",
    "Total_Schools=len(school_data)\n",
    "Total_Students=len(student_data)\n",
    "Total_Budget=sum(school_data[\"budget\"])\n",
    "Averagescore= student_data[\"math_score\"].mean()\n",
    "Readingscore= student_data[\"reading_score\"].mean()\n",
    "PassingRate=(Averagescore + Readingscore)/2\n",
    "#PassingGrade=(student_data[\"math_score\"] >=70).count()\n",
    "Passing_Math=(student_data[student_data[\"math_score\"] >=70]).count()[\"Student ID\"]\n",
    "Students_Passing_Math=(Passing_Math/Total_Students)*100\n",
    "#print('%{0:.2f}'.format (Pass1))\n",
    "Passing_Reading=(student_data[student_data[\"reading_score\"]>=70]).count ()[\"Student ID\"]\n",
    "Students_Passing_Reading=(Passing_Reading/Total_Students)*100\n",
    "#print('%{0:.2f}'.format (Pass2))\n",
    "\n",
    "# Place all of the data found into a summary DataFrame\n",
    "District_summary_df = pd.DataFrame({\"Total Schools\": [Total_Schools],\n",
    "                              \"Total Students\": Total_Students,\n",
    "                              \"Total Budget\": Total_Budget,\n",
    "                              \" Overall Passing Rate\" :'{0:.2f}%'.format (PassingRate),     \n",
    "                  \n",
    "                                    \"Average Math Score\": Averagescore,\n",
    "                              \"Average Reading Score\": Readingscore,\n",
    "                              \"Passing Math\": '{0:.2f}%'.format (Students_Passing_Math),\n",
    "                              \"Passing Reading\": '{0:.2f}%'.format(Students_Passing_Reading)})\n",
    "                              \n",
    "District_summary_df"
   ]
  },
  {
   "cell_type": "code",
   "execution_count": null,
   "metadata": {},
   "outputs": [],
   "source": []
  },
  {
   "cell_type": "markdown",
   "metadata": {},
   "source": [
    "## School Summary"
   ]
  },
  {
   "cell_type": "markdown",
   "metadata": {},
   "source": [
    "* Create an overview table that summarizes key metrics about each school, including:\n",
    "  * School Name\n",
    "  * School Type\n",
    "  * Total Students\n",
    "  * Total School Budget\n",
    "  * Per Student Budget\n",
    "  * Average Math Score\n",
    "  * Average Reading Score\n",
    "  * % Passing Math\n",
    "  * % Passing Reading\n",
    "  * Overall Passing Rate (Average of the above two)\n",
    "  \n",
    "* Create a dataframe to hold the above results"
   ]
  },
  {
   "cell_type": "code",
   "execution_count": null,
   "metadata": {},
   "outputs": [],
   "source": [
    "size=school_data_complete[\"school_name\"].value_counts()\n",
    "\n",
    "#school_data_complete= school_data_complete.rename(columns={\"type\": \"Type\"})\n",
    "\n",
    "Total_School_budget=school_data_complete.groupby([\"school_name\"]).mean()[\"budget\"]\n",
    "\n",
    "Per_Student_Budget= Total_School_budget/ size\n",
    "\n",
    "School_PassMath= school_data_complete.groupby([\"school_name\"]).mean()[\"math_score\"]\n",
    "\n",
    "School_PassReading= school_data_complete.groupby([\"school_name\"]).mean()[\"reading_score\"]\n",
    "\n",
    "PassingMath2=school_data_complete[(school_data_complete[\"math_score\"]>=70)]\n",
    "\n",
    "PassingMathPercent= ((PassingMath2.groupby([\"school_name\"]).count()[\"student_name\"]/size)*100)\n",
    "\n",
    "PassingReading2=school_data_complete[(school_data_complete[\"reading_score\"]>=70)]\n",
    "\n",
    "PassingReadingPercent=((PassingReading2.groupby([\"school_name\"]).count()[\"student_name\"]/size)*100)\n",
    "\n",
    "AllAverage=(school_data_complete[(school_data_complete[\"math_score\"]>=70)& (school_data_complete[\"reading_score\"]>=70)])\n",
    "OverallPassing= (AllAverage.groupby([\"school_name\"]).count()[\"student_name\"]/ size*100)     \n",
    "\n",
    "school_name= school_data[\"school_name\"]\n",
    "\n",
    "School_Types= school_data.set_index([\"school_name\"])[\"type\"]\n",
    "\n",
    "\n",
    "School_summary_df = pd.DataFrame({\n",
    "                              \"School_Types\": School_Types,\n",
    "                              \"Total Students\": size,\n",
    "                              \"School Budget\" :Total_School_budget,     \n",
    "                              \"Budget_Per_Student\":Per_Student_Budget,\n",
    "                              \"AvgMath\":School_PassMath,\n",
    "                              \"AvgReading\":School_PassReading,\n",
    "                              \"Passing Math\":PassingMathPercent,\n",
    "                              \"Overall Passing Rate\": OverallPassing,   \n",
    "                              \"Passing Reading\": PassingReadingPercent})\n",
    "School_summary_df\n",
    "#School_summary_df.to_csv(\"new.csv\")\n"
   ]
  },
  {
   "cell_type": "markdown",
   "metadata": {},
   "source": [
    "## Top Performing Schools (By Passing Rate)"
   ]
  },
  {
   "cell_type": "markdown",
   "metadata": {},
   "source": [
    "* Sort and display the top five schools in overall passing rate"
   ]
  },
  {
   "cell_type": "code",
   "execution_count": null,
   "metadata": {},
   "outputs": [],
   "source": [
    "School_summary_df = School_summary_df.sort_values([\"Overall Passing Rate\"],ascending=False)\n",
    "School_summary_df.head()"
   ]
  },
  {
   "cell_type": "code",
   "execution_count": null,
   "metadata": {},
   "outputs": [],
   "source": [
    "#school_data_complete=school_data_complete.rename(columns={\"type\": \"Type\"}, inplace=True)\n",
    "#gapminder?\n",
    "#Type=school_data_complete[\"Type\"].value_counts()    \n",
    "#school_data_complete[\"passingmath\"]= school_data_complete[\"math_score\"]>=70 \n",
    "#PassingReading= School_Groupby[\"reading_score\"].apply(lambda x: 1 if x >=70 else 0) \n",
    "#PassMath=School_Groupby[\"math_score\"].apply(lambda x: 1 if x >=70 else 0)\n",
    "#sum of passing math divided by count = percent"
   ]
  },
  {
   "cell_type": "code",
   "execution_count": null,
   "metadata": {},
   "outputs": [],
   "source": [
    "#School_Groupby= school_data_complete.groupby([\"school_name\"])\n",
    "#Schoollist=School_Groupby"
   ]
  },
  {
   "cell_type": "code",
   "execution_count": null,
   "metadata": {},
   "outputs": [],
   "source": [
    "#SchoolAvgMath=School_Groupby[\"math_score\"].mean()\n",
    "#SchoolAvgMath\n",
    "#SchoolAvgReading=School_Groupby[\"reading_score\"].mean()\n",
    "#SchoolAvgReading\n",
    "#SchoolPassReading=School_Groupby[\"passingreading\"].sum()/ School_Groupby[\"passingreading\"].count()\n",
    "#SchoolPassReading\n",
    "#SchoolPassMath=School_Groupby[\"\"]"
   ]
  },
  {
   "cell_type": "code",
   "execution_count": null,
   "metadata": {},
   "outputs": [],
   "source": [
    "#AllAverage=(school_data_complete[(school_data_complete[\"math_score\"]>=70)& (school_data_complete[\"reading_score\"]>=70)])\n",
    "#OverallPassing= (AllAverage.groupby([\"school_name\"]).count()[\"student_name\"]/ size)\n",
    "#OverallPassing"
   ]
  },
  {
   "cell_type": "code",
   "execution_count": null,
   "metadata": {},
   "outputs": [],
   "source": [
    "#school_data_complete= school_data_complete.rename(columns={\"type\": \"Type\"})\n",
    "#Type= school_data_complete.set_index([\"school_name\"]) [\"Type\"]\n",
    "#Type\n",
    "#AllAverage=PassingMathPercent+PassingReadingPercent/2  "
   ]
  },
  {
   "cell_type": "markdown",
   "metadata": {},
   "source": [
    "## Bottom Performing Schools (By Passing Rate)"
   ]
  },
  {
   "cell_type": "markdown",
   "metadata": {},
   "source": [
    "* Sorted and displayed the five worst-performing schools"
   ]
  },
  {
   "cell_type": "code",
   "execution_count": null,
   "metadata": {},
   "outputs": [],
   "source": [
    "School_summary_df = School_summary_df.sort_values([\"Overall Passing Rate\"], ascending=True)\n",
    "School_summary_df.head()"
   ]
  },
  {
   "cell_type": "markdown",
   "metadata": {
    "collapsed": true
   },
   "source": [
    "## Math Scores by Grade"
   ]
  },
  {
   "cell_type": "markdown",
   "metadata": {},
   "source": [
    "* Created a table that lists the average Reading Score for students of each grade level (9th, 10th, 11th, 12th) at each school.\n",
    "\n",
    "  * Created a pandas series for each grade. Hint: use a conditional statement.\n",
    "  \n",
    "  * Grouped each series by school\n",
    "  \n",
    "  * Combined the series into a dataframe\n",
    "  "
   ]
  },
  {
   "cell_type": "code",
   "execution_count": null,
   "metadata": {},
   "outputs": [],
   "source": [
    "Nine=school_data_complete[(school_data_complete[\"grade\"]==\"9th\")]\n",
    "Ten=school_data_complete[(school_data_complete[\"grade\"]==\"10th\")]\n",
    "Eleven=school_data_complete[(school_data_complete[\"grade\"]==\"11th\")]\n",
    "Twelve=school_data_complete[(school_data_complete[\"grade\"]==\"12th\")]\n",
    "\n",
    "NineSchool=Nine.groupby([\"school_name\"]).mean()[\"math_score\"]\n",
    "TenSchool=Ten.groupby([\"school_name\"]).mean()[\"math_score\"]\n",
    "ElevenSchool=Eleven.groupby([\"school_name\"]).mean()[\"math_score\"]\n",
    "TwelveSchool=Twelve.groupby([\"school_name\"]).mean()[\"math_score\"]\n",
    "\n",
    "MathGradeScores_df= pd.DataFrame({ \"Nine\": NineSchool,\n",
    "                                  \n",
    "                             \"Ten\": TenSchool,\n",
    "                             \"Eleven\":ElevenSchool,\n",
    "                              \"Twelve\":TwelveSchool})\n",
    "MathGradeScores_df"
   ]
  },
  {
   "cell_type": "markdown",
   "metadata": {},
   "source": [
    "## Reading Score by Grade "
   ]
  },
  {
   "cell_type": "markdown",
   "metadata": {},
   "source": [
    "* Performed the same operations as above for reading scores"
   ]
  },
  {
   "cell_type": "code",
   "execution_count": null,
   "metadata": {},
   "outputs": [],
   "source": [
    "Nine=school_data_complete[(school_data_complete[\"grade\"]==\"9th\")]\n",
    "Ten=school_data_complete[(school_data_complete[\"grade\"]==\"10th\")]\n",
    "Eleven=school_data_complete[(school_data_complete[\"grade\"]==\"11th\")]\n",
    "Twelve=school_data_complete[(school_data_complete[\"grade\"]==\"12th\")]\n",
    "\n",
    "NineSchool=Nine.groupby([\"school_name\"]).mean()[\"reading_score\"]\n",
    "TenSchool=Ten.groupby([\"school_name\"]).mean()[\"reading_score\"]\n",
    "ElevenSchool=Eleven.groupby([\"school_name\"]).mean()[\"reading_score\"]\n",
    "TwelveSchool=Twelve.groupby([\"school_name\"]).mean()[\"reading_score\"]\n",
    "\n",
    "ReadingGradeScores_df= pd.DataFrame({ \"Nine\": NineSchool,\n",
    "                             \"Ten\": TenSchool,\n",
    "                             \"Eleven\":ElevenSchool,\n",
    "                              \"Twelve\":TwelveSchool})\n",
    "ReadingGradeScores_df"
   ]
  },
  {
   "cell_type": "markdown",
   "metadata": {},
   "source": [
    "## Scores by School Spending"
   ]
  },
  {
   "cell_type": "markdown",
   "metadata": {},
   "source": [
    "* Created a table that breaks down school performances based on average Spending Ranges (Per Student). Use 4 reasonable bins to group school spending. Include in the table each of the following:\n",
    "  * Average Math Score\n",
    "  * Average Reading Score\n",
    "  * % Passing Math\n",
    "  * % Passing Reading\n",
    "  * Overall Passing Rate (Average of the above two)"
   ]
  },
  {
   "cell_type": "code",
   "execution_count": null,
   "metadata": {},
   "outputs": [],
   "source": [
    "# Sample bins. Feel free to create your own bins.\n",
    "# import pandas as pd\n",
    "# csv_path = \"new.csv\"\n",
    "# SchoolSpending = pd.read_csv(csv_path)\n",
    "#SchoolSpending=pd.read(new.csv)\n",
    "#SchoolSpending.head()\n",
    "#School_summary_df.to_csv(\"\\Users\\Radox Babe\\Desktop\\Data.csv\") \n",
    "#School_Summary_df\n",
    "#bins = [0, 585, 615, 645, 675]\n",
    "#labels= [\"<$585\", \"$585-615\", \"$615-645\", \"$645-675\"]\n",
    "\n",
    "\n",
    "\n",
    "\n",
    "School_summary_df[\"Spending\"]=pd.cut(School_summary_df.Budget_Per_Student,bins = [0, 585, 615, 645, 675],labels=[\"<$585\", \"$585-615\", \"$615-645\", \"$645-675\"])\n",
    "\n",
    "\n",
    "\n",
    "\n",
    "SpendingScoresAvgMath=School_summary_df.groupby([\"Spending\"]).mean()[\"AvgMath\"]\n",
    "SpendingScoreAvgReading=School_summary_df.groupby([\"Spending\"]).mean()[\"AvgReading\"]\n",
    "SpendingScorePercentMath=School_summary_df.groupby([\"Spending\"]).mean()[\"Passing Math\"]\n",
    "SpengingScorePercentReading=School_summary_df.groupby([\"Spending\"]).mean()[\"Passing Reading\"]\n",
    "SpendingScoreGradeOverall=School_summary_df.groupby([\"Spending\"]).mean()[\"Overall Passing Rate\"]\n",
    "\n",
    "\n",
    "Summaryby_spending_df=pd.DataFrame({ \"AvgMath\": SpendingScoresAvgMath,\n",
    "                             \"AvgReading\": SpendingScoreAvgReading,\n",
    "                             \"Passing Math\":SpendingScorePercentMath,\n",
    "                                      \"Passing Reading\":SpengingScorePercentReading,\n",
    "                               \"Overall Passing Rate\":SpendingScoreGradeOverall})\n",
    "\n",
    "Summaryby_spending_df\n",
    "\n",
    "\n",
    "\n",
    "\n",
    "\n",
    "#Total_School_budget=school_data_complete.groupby([\"school_name\"]).mean()[\"budget\"]\n",
    "#Per_Student_Budget= Total_School_budget/ size\n",
    "#data=pd.DataFrame[School_summary_df]\n",
    "#data\n",
    "#School_Summary_df=School_Summary_df.groupby(\"school_name\")\n",
    "#School_Summary_df\n",
    "#Nine=school_data_complete[(school_data_complete[\"grade\"]==\"9th\")]\n",
    "#SchoolSpending= (School_summary_df[(School_summary_df[\"Per_Student_Budget\":float])\n",
    "#SchoolSpending\n",
    "#SchoolSpending=pd.cut(School_summary_df.Budget_Per_Student,spending_bins)      \n",
    "#SchoolSpending\n",
    "#df=pd.DataFrame(SchoolSpending)  "
   ]
  },
  {
   "cell_type": "markdown",
   "metadata": {},
   "source": [
    "## Scores by School Size"
   ]
  },
  {
   "cell_type": "markdown",
   "metadata": {},
   "source": [
    "* Performed the same operations as above, based on school size."
   ]
  },
  {
   "cell_type": "code",
   "execution_count": null,
   "metadata": {},
   "outputs": [],
   "source": [
    "# Sample bins. Feel free to create your own bins.\n",
    "\n",
    "bins = [0, 1000, 2000, 5000]\n",
    "labels = [\"Small (<1000)\", \"Medium (1000-2000)\", \"Large (2000-5000)\"]\n",
    "School_summary_df[\"SchoolSize\"]=pd.cut(School_summary_df[\"Total Students\"],bins,labels=labels)\n",
    "School_summary_df\n",
    "\n",
    "\n",
    "\n",
    "\n",
    "#SchoolSize[\"Binning\"]=pd.cut(SchoolSize.Budget_Per_Student,bins = [0, 1000, 2000, 5000],labels=[\"Small (<1000)\", \"Medium (1000-2000)\", \"Large (2000-5000)\"])\n",
    "#SchoolSize\n",
    "#bins = [0, 1000, 2000, 5000]\n",
    "#labels = [\"Small (<1000)\", \"Medium (1000-2000)\", \"Large (2000-5000)\"]"
   ]
  },
  {
   "cell_type": "code",
   "execution_count": null,
   "metadata": {
    "scrolled": true
   },
   "outputs": [],
   "source": [
    "SizeMathscore=School_summary_df.groupby([\"SchoolSize\"]).mean()[\"AvgMath\"]\n",
    "SizeReadingscore=School_summary_df.groupby([\"SchoolSize\"]).mean()[\"AvgReading\"]\n",
    "SizebyMathPassing=School_summary_df.groupby([\"SchoolSize\"]).mean()[\"Passing Math\"]\n",
    "SizebyReadingPassing=School_summary_df.groupby([\"SchoolSize\"]).mean()[\"Passing Reading\"]\n",
    "SizebyOverallAvg=School_summary_df.groupby([\"SchoolSize\"]).mean()[\"Overall Passing Rate\"]\n",
    "\n",
    "\n",
    "Summaryby_sizedf=pd.DataFrame({ \"AvgMath\": SizeMathscore,\n",
    "                             \"AvgReading\": SizeReadingscore,\n",
    "                             \"Passing Math\":SizebyMathPassing,\n",
    "                              \"Passing Reading\":SizebyReadingPassing,\n",
    "                               \"Overall Passing Rate\":SizebyOverallAvg})\n",
    "Summaryby_sizedf"
   ]
  },
  {
   "cell_type": "markdown",
   "metadata": {},
   "source": [
    "## Scores by School Type"
   ]
  },
  {
   "cell_type": "markdown",
   "metadata": {},
   "source": [
    "* Performed the same operations as above, based on school type."
   ]
  },
  {
   "cell_type": "code",
   "execution_count": null,
   "metadata": {},
   "outputs": [],
   "source": [
    "TypebyMath=School_summary_df.groupby([\"School_Types\"]).mean()[\"AvgMath\"]\n",
    "TypebyReading=School_summary_df.groupby([\"School_Types\"]).mean()[\"AvgReading\"]\n",
    "Typebypercentmath=School_summary_df.groupby([\"School_Types\"]).mean()[\"Passing Math\"]\n",
    "Typebypercentreading=School_summary_df.groupby([\"School_Types\"]).mean()[\"Passing Reading\"]\n",
    "Typebyoverallpassing=School_summary_df.groupby([\"School_Types\"]).mean()[\"Overall Passing Rate\"]\n",
    "\n",
    "\n",
    "\n",
    "\n",
    "\n",
    "SummarybyType_df=pd.DataFrame({\"AvgMath\": TypebyMath,\n",
    "                             \"AvgReading\": TypebyReading,\n",
    "                             \"Passing Math\":Typebypercentmath,\n",
    "                              \"Passing Reading\":Typebypercentreading,\n",
    "                               \"Overall Passing Rate\":Typebyoverallpassing})\n",
    "SummarybyType_df"
   ]
  },
  {
   "cell_type": "code",
   "execution_count": null,
   "metadata": {},
   "outputs": [],
   "source": []
  }
 ],
 "metadata": {
  "anaconda-cloud": {},
  "kernel_info": {
   "name": "python3"
  },
  "kernelspec": {
   "display_name": "Python 3",
   "language": "python",
   "name": "python3"
  },
  "language_info": {
   "codemirror_mode": {
    "name": "ipython",
    "version": 3
   },
   "file_extension": ".py",
   "mimetype": "text/x-python",
   "name": "python",
   "nbconvert_exporter": "python",
   "pygments_lexer": "ipython3",
   "version": "3.7.4"
  },
  "latex_envs": {
   "LaTeX_envs_menu_present": true,
   "autoclose": false,
   "autocomplete": true,
   "bibliofile": "biblio.bib",
   "cite_by": "apalike",
   "current_citInitial": 1,
   "eqLabelWithNumbers": true,
   "eqNumInitial": 1,
   "hotkeys": {
    "equation": "Ctrl-E",
    "itemize": "Ctrl-I"
   },
   "labels_anchors": false,
   "latex_user_defs": false,
   "report_style_numbering": false,
   "user_envs_cfg": false
  },
  "nteract": {
   "version": "0.8.4"
  }
 },
 "nbformat": 4,
 "nbformat_minor": 1
}